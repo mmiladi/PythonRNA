{
 "cells": [
  {
   "cell_type": "markdown",
   "metadata": {},
   "source": [
    "# Basic Python wrapper for IntARNA\n",
    "Author: Milad Miladi\n",
    "\n",
    "License: GPLv3\n",
    "\n",
    "For details about IntARNA invokation please refere to:\n",
    "\n",
    "https://github.com/BackofenLab/IntARNA\n"
   ]
  },
  {
   "cell_type": "code",
   "execution_count": 9,
   "metadata": {},
   "outputs": [],
   "source": [
    "import os\n",
    "import pandas as pd\n",
    "from subprocess import Popen, PIPE\n",
    "from Bio import SeqIO\n",
    "\n",
    "# Parameters (fixed) for calling IntARNA\n",
    "INTARNA_ARGS = \"-n 10 --outOverlap=B --outMode=C\" # Some extra params: --outOverlap=B --outMode=C --seedBP=5 --temperature 22  --qAccW 0 --qAccL 0 \"\n",
    "\n",
    "# For conda installation keep the PATH empty\n",
    "PATH_INTARNA = '' #'./IntaRNA/src/bin/'\n",
    "\n",
    "INTARNA_BIN = os.path.join(PATH_INTARNA, 'IntaRNA')\n",
    "\n",
    "def which(program):\n",
    "    import os\n",
    "    def is_exe(fpath):\n",
    "        return os.path.isfile(fpath) and os.access(fpath, os.X_OK)\n",
    "\n",
    "    fpath, fname = os.path.split(program)\n",
    "    if fpath:\n",
    "        if is_exe(program):\n",
    "            return program\n",
    "    else:\n",
    "        for path in os.environ[\"PATH\"].split(os.pathsep):\n",
    "            exe_file = os.path.join(path, program)\n",
    "            if is_exe(exe_file):\n",
    "                return exe_file\n",
    "\n",
    "    return None\n",
    "\n",
    "if which(INTARNA_BIN) is None:\n",
    "    raise RuntimeError(\"Cannot find IntARNA executable using path: {}\".format(INTARNA_BIN))\n",
    "    \n",
    "\n",
    "def run_intaRNA_shape(query_fa, target_fa, query_id=None, target_id=None, shape_file=None, out_suffix='',\n",
    "                      spot_probs_pairs_str=None):\n",
    "    \n",
    "    if len(list(SeqIO.parse(query_fa, \"fasta\"))) != 1 or len(listSeqIO.parse(target_fa,\"fasta\")) != 1:\n",
    "        raise RuntimeError('The wrapper accepts exactly one target and one query per fasta file')\n",
    "    if query_id is None:\n",
    "        query_id = 'query'\n",
    "    if target_id is None:\n",
    "        target_id = 'target'\n",
    "    \n",
    "    # Make a shell command \n",
    "    subopt_csv = 'intarna-subopts_{}-{}{}.csv'.format(target_id, query_id, out_suffix)\n",
    "    heatmap_csv = 'intarna-heatmap_{}-{}{}.csv'.format(target_id, query_id, out_suffix)\n",
    "    spotprob_csv = 'intarna-spotProbs_{}-{}{}.csv'.format(target_id, query_id, out_suffix)\n",
    "\n",
    "    cmd = INTARNA_BIN + ' --target={} --query={} '.format(target_fa, query_fa)\n",
    "    cmd += '--out=pMinE:{} --out={} '.format(heatmap_csv, subopt_csv)\n",
    "    params = '{} '.format(INTARNA_ARGS)\n",
    "    \n",
    "    if shape_file is not None:\n",
    "        cmd += '--qShape {} '.format(shape_file)\n",
    "        params += '--qShapeMethod \"Z\" '\n",
    "    if spot_probs_pairs_str is not None:\n",
    "        cmd += '--out=\"spotProb:{}:{}\" '.format(spot_probs_pairs_str, spotprob_csv)\n",
    "\n",
    "    print (cmd, params)\n",
    "    p = Popen(cmd + params , stdin=PIPE, shell=True, stdout=PIPE, stderr=PIPE)\n",
    "    out, err = p.communicate()\n",
    "    if err or b\"ERROR\" in out:\n",
    "        raise RuntimeError(\"Error in calling intaRNA\\n{}\\n{}\\n\".format(out, err))\n",
    "\n",
    "    print (out)\n",
    "    df_subopts = pd.read_csv(subopt_csv,sep=';')\n",
    "    df_heatmap = pd.read_csv(heatmap_csv,sep=';')\n",
    "\n",
    "    #df_subopts['intarna_params:{}'.format(params)] = ''\n",
    "    return  df_subopts#, df_heatmap, spotprob_csv"
   ]
  },
  {
   "cell_type": "code",
   "execution_count": 6,
   "metadata": {},
   "outputs": [],
   "source": [
    "# Create sample test fasta files\n",
    "\n",
    "query_fa_str=\\\n",
    "\"\"\">ncRNA1\n",
    "AGGAUGGGGGAAACCCCAUACUCCUCACACACCAAAUCGCCCGAUUUAUCGGGCUUUUUU\n",
    ">ncRNA2\n",
    "ACUGAGGUACGAUCGUGGCAGGGCCUUUGACUGACUUUCGUACUUU\n",
    "\"\"\"\n",
    "target_fa_str=\\\n",
    "\"\"\">mRNA1\n",
    "UUUAAAUUAAAAAAUCAUAGAAAAAGUAUCGUUUGAUACUUGUGAUUAUACUCAGUUAUA\n",
    "CAGUAUCUUAAGGUGUUAUUAAUAGUGGUGAGGAGAAUUUAUGAAGCUUUUCAAAAGCUU\n",
    "GCUUGUGGCACCUGCAACUCUUGGUCUUUUAGCACCAAUGACCGCUACUGCUAAU\n",
    ">mRNA2\n",
    "UGCUUCUUAGUAAUGGCCAGCUCGGGGAUUUGGAACUGGUGGUUGUUAAUUCUAGGCAAA\n",
    "UAGAUUAAAAUUAAAUUACUCAAAUUGUGUGACGAGUUUUAUGAAGCUUUUUAAAAGCUU\n",
    "GUUGGUAGCUCCAGCAACGAUUGGGCUACUAGCUCCAUUUUCAACGUUUGCUGGC\n",
    "\"\"\"\n",
    "! echo \"$query_fa_str\" > ./intarna_query.fa\n",
    "! echo \"$target_fa_str\" > ./intarna_target.fa\n"
   ]
  },
  {
   "cell_type": "code",
   "execution_count": 10,
   "metadata": {},
   "outputs": [
    {
     "ename": "TypeError",
     "evalue": "object of type 'generator' has no len()",
     "output_type": "error",
     "traceback": [
      "\u001b[0;31m---------------------------------------------------------------------------\u001b[0m",
      "\u001b[0;31mTypeError\u001b[0m                                 Traceback (most recent call last)",
      "\u001b[0;32m<ipython-input-10-db8901511dfc>\u001b[0m in \u001b[0;36m<module>\u001b[0;34m()\u001b[0m\n\u001b[0;32m----> 1\u001b[0;31m \u001b[0mrun_intaRNA_shape\u001b[0m\u001b[0;34m(\u001b[0m\u001b[0;34m'./intarna_query.fa'\u001b[0m\u001b[0;34m,\u001b[0m\u001b[0;34m'./intarna_target.fa'\u001b[0m\u001b[0;34m)\u001b[0m\u001b[0;34m\u001b[0m\u001b[0m\n\u001b[0m",
      "\u001b[0;32m<ipython-input-9-5785c6d64f4e>\u001b[0m in \u001b[0;36mrun_intaRNA_shape\u001b[0;34m(query_fa, target_fa, query_id, target_id, shape_file, out_suffix, spot_probs_pairs_str)\u001b[0m\n\u001b[1;32m     36\u001b[0m                       spot_probs_pairs_str=None):\n\u001b[1;32m     37\u001b[0m \u001b[0;34m\u001b[0m\u001b[0m\n\u001b[0;32m---> 38\u001b[0;31m     \u001b[0;32mif\u001b[0m \u001b[0mlen\u001b[0m\u001b[0;34m(\u001b[0m\u001b[0mSeqIO\u001b[0m\u001b[0;34m.\u001b[0m\u001b[0mparse\u001b[0m\u001b[0;34m(\u001b[0m\u001b[0mquery_fa\u001b[0m\u001b[0;34m,\u001b[0m \u001b[0;34m\"fasta\"\u001b[0m\u001b[0;34m)\u001b[0m\u001b[0;34m)\u001b[0m \u001b[0;34m!=\u001b[0m \u001b[0;36m1\u001b[0m \u001b[0;32mor\u001b[0m \u001b[0mlen\u001b[0m\u001b[0;34m(\u001b[0m\u001b[0mSeqIO\u001b[0m\u001b[0;34m.\u001b[0m\u001b[0mparse\u001b[0m\u001b[0;34m(\u001b[0m\u001b[0mtarget_fa\u001b[0m\u001b[0;34m,\u001b[0m\u001b[0;34m\"fasta\"\u001b[0m\u001b[0;34m)\u001b[0m\u001b[0;34m)\u001b[0m \u001b[0;34m!=\u001b[0m \u001b[0;36m1\u001b[0m\u001b[0;34m:\u001b[0m\u001b[0;34m\u001b[0m\u001b[0m\n\u001b[0m\u001b[1;32m     39\u001b[0m         \u001b[0;32mraise\u001b[0m \u001b[0mRuntimeError\u001b[0m\u001b[0;34m(\u001b[0m\u001b[0;34m'The wrapper accepts exactly one target and one query per fasta file'\u001b[0m\u001b[0;34m)\u001b[0m\u001b[0;34m\u001b[0m\u001b[0m\n\u001b[1;32m     40\u001b[0m     \u001b[0;32mif\u001b[0m \u001b[0mquery_id\u001b[0m \u001b[0;32mis\u001b[0m \u001b[0;32mNone\u001b[0m\u001b[0;34m:\u001b[0m\u001b[0;34m\u001b[0m\u001b[0m\n",
      "\u001b[0;31mTypeError\u001b[0m: object of type 'generator' has no len()"
     ]
    }
   ],
   "source": [
    "run_intaRNA_shape('./intarna_query.fa','./intarna_target.fa')"
   ]
  }
 ],
 "metadata": {
  "kernelspec": {
   "display_name": "Python 3",
   "language": "python",
   "name": "python3"
  },
  "language_info": {
   "codemirror_mode": {
    "name": "ipython",
    "version": 3
   },
   "file_extension": ".py",
   "mimetype": "text/x-python",
   "name": "python",
   "nbconvert_exporter": "python",
   "pygments_lexer": "ipython3",
   "version": "3.6.5"
  }
 },
 "nbformat": 4,
 "nbformat_minor": 2
}
